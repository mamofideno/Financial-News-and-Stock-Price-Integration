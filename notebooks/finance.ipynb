{
 "cells": [
  {
   "cell_type": "code",
   "execution_count": null,
   "metadata": {},
   "outputs": [],
   "source": [
    "\n",
    "from scripts.QuantitativeAnalyzer import QuantitativeAnalysis\n",
    "df.set_index('Date', inplace=True)\n",
    "\n",
    "# Create an instance of the QuantitativeAnalysis class\n",
    "quant_analysis = QuantitativeAnalysis(df)\n",
    "\n",
    "# Calculate technical indicators\n",
    "quant_analysis.calculate_moving_averages()\n",
    "quant_analysis.calculate_rsi()\n",
    "quant_analysis.calculate_bollinger_bands()\n",
    "quant_analysis.calculate_macd()\n",
    "\n",
    "# Calculate Sharpe Ratio and Volatility\n",
    "sharpe_ratio = quant_analysis.calculate_sharpe_ratio()\n",
    "volatility = quant_analysis.calculate_volatility()\n",
    "\n",
    "# Plot the indicators\n",
    "quant_analysis.plot_technical_indicators(ticker='Sample Ticker')\n",
    "\n",
    "# Print Sharpe Ratio and Volatility\n",
    "print(f'Sharpe Ratio: {sharpe_ratio}')\n",
    "print(f'Annualized Volatility: {volatility}')"
   ]
  }
 ],
 "metadata": {
  "language_info": {
   "name": "python"
  }
 },
 "nbformat": 4,
 "nbformat_minor": 2
}
